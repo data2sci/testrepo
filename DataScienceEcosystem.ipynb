{
 "cells": [
  {
   "cell_type": "markdown",
   "id": "5b2ce147-d65b-443b-87a4-69fb84d0b300",
   "metadata": {},
   "source": [
    "# H1: Data Science Tools and Ecosystem"
   ]
  },
  {
   "cell_type": "markdown",
   "id": "22014107-e2bc-4fef-89ed-d8c4e3b20c7a",
   "metadata": {},
   "source": [
    "# In this notebook, Data Science Tools and Ecosystem are summarized."
   ]
  },
  {
   "cell_type": "markdown",
   "id": "cc12b32a-212e-4125-96e5-80f50e785e65",
   "metadata": {},
   "source": [
    "# Some of the popular languages that Data Scientists use are:\n",
    "1. Python\n",
    "2. R\n",
    "3. Julia"
   ]
  },
  {
   "cell_type": "markdown",
   "id": "e84481d2-dcce-48c1-86d6-b70f3e6e4955",
   "metadata": {},
   "source": [
    "**Objectives:**\n",
    "- Data Science Tools\n",
    "- Languages of Data Science\n",
    "- Libraries used in Data Science\n",
    "- Juputer Notebook and Jupyter lab\n",
    "- RStudio"
   ]
  },
  {
   "cell_type": "markdown",
   "id": "f9a2b1a4-bd68-46ee-a43c-7c2e46c79261",
   "metadata": {},
   "source": [
    "# Some of the commonly used libraries used by Data Scientists include:\n",
    "1. Pandas\n",
    "2. NumPy\n",
    "3. MatPlotlib\n",
    "4. Seaborn\n",
    "5. Scikit-learn\n",
    "6. Keras"
   ]
  },
  {
   "cell_type": "markdown",
   "id": "590609d0-1e23-4013-ab2a-65f50b8ef18a",
   "metadata": {},
   "source": [
    "Data Science Tootls\n",
    "-------------------\n",
    "1. Python\n",
    "2. Jupyter Notebook\n",
    "3. Matplotlib\n",
    "4. Apache Spark\n",
    "5. Tensor Flow\n",
    "6. R\n",
    "7. ggplot2"
   ]
  },
  {
   "cell_type": "markdown",
   "id": "54b0ca1b-a695-4099-8d8a-08f227c6320f",
   "metadata": {},
   "source": [
    "# H3: Below are a few examples of evaluating arithmetic expressions in Python"
   ]
  },
  {
   "cell_type": "code",
   "execution_count": 2,
   "id": "adf5afcd-7746-4c92-abba-014548287dc9",
   "metadata": {
    "tags": []
   },
   "outputs": [
    {
     "data": {
      "text/plain": [
       "17"
      ]
     },
     "execution_count": 2,
     "metadata": {},
     "output_type": "execute_result"
    }
   ],
   "source": [
    "# This a simple arithmetic expression to mutiply then add integers\n",
    "(3*4)+5"
   ]
  },
  {
   "cell_type": "code",
   "execution_count": 3,
   "id": "142a0a87-d01c-4389-b1c6-01b517c5ddc0",
   "metadata": {
    "tags": []
   },
   "outputs": [
    {
     "data": {
      "text/plain": [
       "3.3333333333333335"
      ]
     },
     "execution_count": 3,
     "metadata": {},
     "output_type": "execute_result"
    }
   ],
   "source": [
    "#  This will convert 200 minutes to hours by diving by 60\n",
    "200/60"
   ]
  },
  {
   "cell_type": "markdown",
   "id": "718bca9d-abff-4e1d-801d-15b11b6b82b7",
   "metadata": {},
   "source": [
    "# H2: Author\n",
    "Kalyani Bhor"
   ]
  }
 ],
 "metadata": {
  "kernelspec": {
   "display_name": "Python 3 (ipykernel)",
   "language": "python",
   "name": "python3"
  },
  "language_info": {
   "codemirror_mode": {
    "name": "ipython",
    "version": 3
   },
   "file_extension": ".py",
   "mimetype": "text/x-python",
   "name": "python",
   "nbconvert_exporter": "python",
   "pygments_lexer": "ipython3",
   "version": "3.11.5"
  }
 },
 "nbformat": 4,
 "nbformat_minor": 5
}
